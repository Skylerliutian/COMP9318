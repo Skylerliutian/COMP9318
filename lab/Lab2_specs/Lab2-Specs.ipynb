{
 "cells": [
  {
   "cell_type": "markdown",
   "metadata": {},
   "source": [
    "# COMP9318 Lab2"
   ]
  },
  {
   "cell_type": "markdown",
   "metadata": {
    "collapsed": true
   },
   "source": [
    "## Instructions\n",
    "1. This note book contains instructions for **COMP9318-Lab2**.\n",
    "\n",
    "* You are required to complete your implementation in a file `submission.py` provided along with this notebook.\n",
    "\n",
    "* You are only allowed to use **Python 3.6** for implementation.\n",
    "\n",
    "* You are not allowed to print out unnecessary stuff. We will not consider any output printed out on the screen. All results should be returned in appropriate data structures return by corresponding functions.\n",
    "\n",
    "* You need to submit the code for **lab2** via following link: https://unswkg.net/submit/\n",
    "\n",
    "* For each question, we have provided you with detailed instructions along with question headings. In case of any problem, you can post your query @ Piazza.\n",
    "\n",
    "* If you choose to skip a question, leave the corresponding function body as it is (i.e., keep the `pass` line), otherwise it may affect your mark for other questions.\n",
    "\n",
    "* You are allowed to add other functions and/or import additional modules (you may have to in this lab), but you are not allowed to define global variables. **Only functions are allowed** in `submission.py`. \n",
    "\n",
    "* You should not import unnecessary modules/libraries, failing to import such modules at test time will lead to errors.\n",
    "\n",
    "* We will provide immediate feedback on your submission. You can access your scores using the online submission portal on the same day. \n",
    "\n",
    "* For **Final Evaluation** we will be using a different dataset, so your final scores may vary.  \n",
    "\n",
    "* You are allowed to submit as many times as you want before the deadline, but **ONLY the latest version will be kept and marked**.\n",
    "\n",
    "* Submission deadline for this assignment is **20:59:59 on 23rd March, 2020 (Sydney Time)**. We will **not** accept any late submissions."
   ]
  },
  {
   "cell_type": "markdown",
   "metadata": {},
   "source": [
    "# Question 1: Optimized BUC algorithm (100 points)\n",
    "\n",
    "You need to implement the full `buc_rec_optimized` algorithm with the single-tuple optimization (as described below). Given an input dataframe:\n",
    "\n",
    " A | B | M \n",
    "---|---|---\n",
    " 1 | 2 | 100\n",
    " 2 | 1 | 20\n",
    "\n",
    "Invoking  `buc_rec_optimized` on this data will result in following dataframe: \n",
    "\n",
    "\n",
    " A | B | M\n",
    "---|---|---\n",
    " 1 | 2 | 100\n",
    " 1 |ALL| 100\n",
    " 2 | 1 | 20 \n",
    " 2 |ALL| 20\n",
    "ALL| 1 | 20\n",
    "ALL| 2 | 100\n",
    "ALL|ALL| 120\n",
    "\n",
    "We have pre-defined the function `buc_rec_optimized` in the file `submission.py`, and its helper functions are defined in the file `helper.py`. \n",
    "\n",
    "**Note:** You should use the functions defined in the file `helper.py`, you are not allowed to change this file. We will provide this file in the test environment.\n",
    "\n",
    "## Input and output\n",
    "\n",
    "Both input and output are dataframes.\n",
    "\n",
    "The input dataframe (i.e., the base cuboid) is directly generated from the input file. Given the dimensionality of the base cuboid is $d$, each row is like:\n",
    "\n",
    "<pre>\n",
    "v_1  v_2 ...  v_d  m\n",
    "</pre>\n",
    "\n",
    "where v_i is the cell's value on the i-th dimension, and m is the measure value. \n",
    "\n",
    "The output dataframe contains $n$ rows, each for a non-empty cell in the compute data cube derived from the input base cuboid. Each row is formatted like input:\n",
    "\n",
    "<pre>\n",
    "v_1  v_2 ...  v_d  m\n",
    "</pre>\n",
    "\n",
    "where v_i is the cell's value on the i-th dimension, and m is the measure value. \n",
    "\n",
    "\n",
    "## The single-tuple optimization\n",
    "\n",
    "Consider the naive way of recursive implementation of the BUC algorithm, you will notice that it uses several recursive calls to compute all the derived results from an input that consists of only one tuple. This is certainly a waste of computation. \n",
    "\n",
    "For example, if we are asked to compute the cube given the following input\n",
    "\n",
    " B | C | M \n",
    "---|---|---\n",
    " 1 | 2 | 100\n",
    "\n",
    "We can immmediately output the following, **without** using any recursive calls. \n",
    "\n",
    "<pre>\n",
    "1    2    100\n",
    "*    2    100\n",
    "1    *    100\n",
    "*    *    100\n",
    "</pre>\n",
    "\n"
   ]
  },
  {
   "cell_type": "code",
   "execution_count": null,
   "metadata": {},
   "outputs": [],
   "source": []
  },
  {
   "cell_type": "markdown",
   "metadata": {},
   "source": [
    "** Note: For lab-2, you are allowed to use only two libraries, i.e., pandas, and numpy.** "
   ]
  },
  {
   "cell_type": "code",
   "execution_count": 1,
   "metadata": {},
   "outputs": [],
   "source": [
    "import pandas as pd\n",
    "import numpy as np"
   ]
  },
  {
   "cell_type": "code",
   "execution_count": 2,
   "metadata": {},
   "outputs": [],
   "source": [
    "##============================================================\n",
    "# Data file format: \n",
    "# * tab-delimited input file\n",
    "# * 1st line: dimension names and the last dimension is assumed to be the measure\n",
    "# * rest of the lines: data values.\n",
    "\n",
    "def read_data(filename):\n",
    "    df = pd.read_csv(filename, sep='\\t')\n",
    "    return (df)\n",
    "      \n",
    "# helper functions\n",
    "def project_data(df, d):\n",
    "    # Return only the d-th column of INPUT\n",
    "    return df.iloc[:, d]\n",
    "\n",
    "def select_data(df, d, val):\n",
    "    # SELECT * FROM INPUT WHERE input.d = val\n",
    "    col_name = df.columns[d]\n",
    "    return df[df[col_name] == val]\n",
    "\n",
    "def remove_first_dim(df):\n",
    "    # Remove the first dim of the input\n",
    "    return df.iloc[:, 1:]\n",
    "\n",
    "def slice_data_dim0(df, v):\n",
    "    # syntactic sugar to get R_{ALL} in a less verbose way\n",
    "    df_temp = select_data(df, 0, v)\n",
    "    return remove_first_dim(df_temp)"
   ]
  },
  {
   "cell_type": "code",
   "execution_count": 3,
   "metadata": {},
   "outputs": [],
   "source": [
    "def buc_rec_optimized(df):# do not change the heading of the function\n",
    "    temp_list = []\n",
    "    column_name = input_data.columns.values\n",
    "    result = pd.DataFrame(columns = column_name)\n",
    "    help_buc_fuc(df, temp_list, result)\n",
    "    return result\n",
    "    \n",
    "\n",
    "def help_buc_fuc(df, temp_list, result):\n",
    "    dim = df.shape[1]\n",
    "    if dim == 1:\n",
    "        temp_list.append(sum(project_data(df, 0)))\n",
    "        length = len(result)\n",
    "        # insert a row\n",
    "        result.loc[length] = temp_list\n",
    "    else:\n",
    "        copy = temp_list[:]\n",
    "        dims_value_set = set(project_data(input_data, 0))\n",
    "        for i in dims_value_set:\n",
    "            temp_list = copy[:]\n",
    "            temp_list.append(i)\n",
    "            rest = slice_data_dim0(df, i)\n",
    "            help_buc_fuc(rest, temp_list, result)\n",
    "        rest = remove_first_dim(df)\n",
    "        temp_list = copy[:]\n",
    "        temp_list.append('ALL')\n",
    "        help_buc_fuc(rest, temp_list, result)\n",
    "\n",
    "\n",
    "    \n",
    "    "
   ]
  },
  {
   "cell_type": "code",
   "execution_count": 115,
   "metadata": {},
   "outputs": [],
   "source": [
    "# def buc_rec_optimized(df):  # do not change the heading of the function\n",
    "#     header = list(df)\n",
    "#     result = pd.DataFrame(columns=header)\n",
    "#     my_buc_rec_optimized(df, [], result)\n",
    "#     return result\n",
    "\n",
    "# def my_buc_rec_optimized(df, pre, result):  # help function\n",
    "# #     print(\"resultshi \",result)\n",
    "#     if df.shape[1] == 1:\n",
    "#         pre.append(sum(helper.project_data(df, 0)))\n",
    "#         result.loc[len(result)] = pre\n",
    "#         print(pre)\n",
    "#     else:\n",
    "#         vals = set(helper.project_data(df, 0).values)\n",
    "# #         print(vals,pre)\n",
    "#         pre_copy = pre[:]\n",
    "#         for val in vals:\n",
    "#             pre = pre_copy[:]\n",
    "#             sub_data = helper.slice_data_dim0(df, val)\n",
    "#             pre.append(val)\n",
    "#             print(pre, val)\n",
    "#             my_buc_rec_optimized(sub_data, pre, result)\n",
    "\n",
    "#         sub_data = helper.remove_first_dim(df)\n",
    "#         pre = pre_copy[:]\n",
    "#         pre.append(\"ALL\")\n",
    "#         print(pre)\n",
    "#         my_buc_rec_optimized(sub_data, pre, result)\n",
    "def buc_single(data, column):\n",
    "    length = column - 1\n",
    "    print(length)\n",
    "    result = []\n",
    "    iter_time = 2**length\n",
    "    for i in range(iter_time):\n",
    "        copy = [i for i in data]\n",
    "        for j in range(length):\n",
    "            if (i % (2 ** (length - j)) > (2 ** (length - j - 1)  - 1)):\n",
    "                copy[j] = 'ALL'\n",
    "        result.append(copy)\n",
    "    return result\n",
    "\n",
    "        \n"
   ]
  },
  {
   "cell_type": "code",
   "execution_count": 116,
   "metadata": {
    "scrolled": true
   },
   "outputs": [
    {
     "name": "stdout",
     "output_type": "stream",
     "text": [
      "2\n"
     ]
    },
    {
     "data": {
      "text/plain": [
       "[[1, 2, 100], [1, 'ALL', 100], ['ALL', 2, 100], ['ALL', 'ALL', 100]]"
      ]
     },
     "execution_count": 116,
     "metadata": {},
     "output_type": "execute_result"
    }
   ],
   "source": [
    "## You can test your implementation using the following code...\n",
    "\n",
    "import helper\n",
    "import submission as submission\n",
    "input_data = read_data('./asset/a_.txt')\n",
    "# print(input_data.shape)\n",
    "# print(list(input_data.loc[0]))\n",
    "buc_single(list(input_data.loc[0]), input_data.shape[1])\n",
    "# output = submission.buc_rec_optimized(input_data)\n",
    "\n",
    "# print(output)\n"
   ]
  },
  {
   "cell_type": "code",
   "execution_count": null,
   "metadata": {},
   "outputs": [],
   "source": []
  },
  {
   "cell_type": "code",
   "execution_count": null,
   "metadata": {},
   "outputs": [],
   "source": []
  }
 ],
 "metadata": {
  "kernelspec": {
   "display_name": "Python 3",
   "language": "python",
   "name": "python3"
  },
  "language_info": {
   "codemirror_mode": {
    "name": "ipython",
    "version": 3
   },
   "file_extension": ".py",
   "mimetype": "text/x-python",
   "name": "python",
   "nbconvert_exporter": "python",
   "pygments_lexer": "ipython3",
   "version": "3.7.2"
  }
 },
 "nbformat": 4,
 "nbformat_minor": 1
}
