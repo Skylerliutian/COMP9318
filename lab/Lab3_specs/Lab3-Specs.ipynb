{
 "cells": [
  {
   "cell_type": "markdown",
   "metadata": {},
   "source": [
    "# COMP9318-Lab3"
   ]
  },
  {
   "cell_type": "markdown",
   "metadata": {},
   "source": [
    "## Instructions\n",
    "1. This note book contains instructions for **COMP9318-Lab3**.\n",
    "\n",
    "* You are required to complete your implementation in a file `submission.py` provided along with this notebook.\n",
    "\n",
    "* You are not allowed to print out unnecessary stuff. We will not consider any output printed out on the screen. All results should be returned in appropriate data structures via corresponding functions.\n",
    "\n",
    "* You can submit your implementation for **Lab3** via following link: https://unswkg.net/submit/ .\n",
    "\n",
    "* For each question, we have provided you with detailed instructions along with question headings. In case of any problem, you can post your query @ Piazza.\n",
    "\n",
    "* You are allowed to add other functions and/or import modules (you may have to in this lab), but you are not allowed to define global variables. **Only functions are allowed** in `submission.py`. \n",
    "\n",
    "* You should not import unnecessary modules/libraries, failing to import such modules at test time will lead to errors.\n",
    "\n",
    "* We will provide immediate feedback on your submission. You can access your scores using the online submission portal on the same day. \n",
    "\n",
    "* For **Final Evaluation** we will be using a different dataset, so your final scores may vary.  \n",
    "\n",
    "* You are allowed to submit as many times as you want before the deadline, but **ONLY the latest version will be kept and marked**.\n",
    "\n",
    "* Submission deadline for this assignment is **20:59:59 on 6th April, 2020 (Sydney Time)**. We will **not** accept any late submissions."
   ]
  },
  {
   "cell_type": "markdown",
   "metadata": {},
   "source": [
    "# Quesion 1: Hierarchical Clustering\n",
    "\n",
    "You are required to implement a hierarchical clustering algorithm.\n",
    "\n",
    "The input data is a set of unit vectors (i.e., their norm is 1)."
   ]
  },
  {
   "cell_type": "code",
   "execution_count": 11,
   "metadata": {},
   "outputs": [
    {
     "name": "stdout",
     "output_type": "stream",
     "text": [
      "[[0.4472136  0.89442719]\n",
      " [0.94388373 0.11043153]\n",
      " [0.95388373 0.11043153]\n",
      " [0.9486833  0.31622777]\n",
      " [0.70710678 0.70710678]\n",
      " [0.24253563 0.9701425 ]\n",
      " [0.99388373 0.11043153]\n",
      " [0.91388373 0.11043153]\n",
      " [0.92388373 0.11043153]\n",
      " [0.93388373 0.11043153]\n",
      " [0.96388373 0.11043153]\n",
      " [0.94388373 0.11043153]\n",
      " [0.95388373 0.11043153]\n",
      " [0.9486833  0.31622777]\n",
      " [0.70710678 0.70710678]\n",
      " [0.24253563 0.9701425 ]\n",
      " [0.99388373 0.11043153]\n",
      " [0.91388373 0.11043153]]\n"
     ]
    }
   ],
   "source": [
    "import numpy as np\n",
    "data = np.loadtxt('asset/data_2.txt', dtype = float)\n",
    "print(data)"
   ]
  },
  {
   "cell_type": "markdown",
   "metadata": {},
   "source": [
    "We use inner product to evaluate the similarity between two vectors."
   ]
  },
  {
   "cell_type": "code",
   "execution_count": 12,
   "metadata": {},
   "outputs": [
    {
     "name": "stdout",
     "output_type": "stream",
     "text": [
      "0.5208905983822762\n"
     ]
    }
   ],
   "source": [
    "def dot_product(a, b):\n",
    "    res = 0\n",
    "    for i in range(len(a)):\n",
    "        res += a[i] * b[i]\n",
    "    return res\n",
    "\n",
    "print(dot_product(data[0], data[1]))\n"
   ]
  },
  {
   "cell_type": "code",
   "execution_count": 13,
   "metadata": {},
   "outputs": [],
   "source": [
    "def complete_link(data, index):\n",
    "    n = data.shape[0]\n",
    "    one_dim = []\n",
    "#     print(data)\n",
    "    for i in range(n):\n",
    "        for j in range(i + 1, n):\n",
    "            one_dim.append(data[i][j])\n",
    "    max_num = max(one_dim)\n",
    "    for i in range(n):\n",
    "        for j in range(i + 1, n):\n",
    "            if data[i][j] == max_num:\n",
    "                c = [i, j]\n",
    "                continue\n",
    "#     print(np.where(data == max_num)[0])\n",
    "#     c = np.where(data == max_num)[0]\n",
    "#     print(c)\n",
    "    clu = [index[c[0]], index[c[1]]]\n",
    "#     print(clu)\n",
    "#     print(index)\n",
    "    index.remove(clu[0])\n",
    "    index.remove(clu[1])\n",
    "    index.append(str(clu[0]) + ' ' +str(clu[1]))\n",
    "    return c, index\n",
    "def update_martix(data, c):\n",
    "    n = data.shape[0]\n",
    "    new_data = []\n",
    "    for i in range(n):\n",
    "        if i not in c:\n",
    "            temp = []\n",
    "            for j in range(n):\n",
    "                if j not in c:\n",
    "                    temp.append(data[i][j])\n",
    "            temp.append(min([data[i][c[0]], data[i][c[1]]]))\n",
    "            new_data.append(temp)\n",
    "    after_c = []\n",
    "    for i in range(len(new_data)):\n",
    "        after_c.append(new_data[i][-1])\n",
    "    after_c.append(float(1))\n",
    "    new_data.append(after_c)\n",
    "    new_data = np.array(new_data)\n",
    "    return new_data\n",
    "            \n",
    "    \n",
    "def hc1(data, k):\n",
    "    result_dic = {}\n",
    "    point_num = len(data)\n",
    "    sim_martix = []\n",
    "    result = []\n",
    "    index = [i for i in range(point_num)]\n",
    "    for i in range(point_num):\n",
    "        sim = []\n",
    "        for j in range(point_num):\n",
    "            sim.append(dot_product(data[i], data[j]))\n",
    "        sim_martix.append(sim)\n",
    "    sim_martix = np.array(sim_martix)\n",
    "#     print(sim_martix)\n",
    "    if k != 0:\n",
    "        if k == 1:\n",
    "            result = [0] * len(index)\n",
    "            return result\n",
    "        if 1 < k <= len(index):\n",
    "            while len(index) != k:\n",
    "                c, index= complete_link(sim_martix, index)\n",
    "                sim_martix = update_martix(sim_martix, c)\n",
    "        count = 0\n",
    "#         print(index)\n",
    "        for i in index:\n",
    "            if isinstance(i, str):\n",
    "                split_list = i.split(' ')\n",
    "                for j in split_list:\n",
    "                    result_dic[int(j)] = count\n",
    "                count += 1\n",
    "        for i in index:\n",
    "            if isinstance(i, int):\n",
    "                result_dic[i] = count\n",
    "                count += 1\n",
    "        for i in sorted(result_dic):\n",
    "            result.append(result_dic[i])\n",
    "    return result\n",
    "# print(hc(data, 3))\n",
    "\n"
   ]
  },
  {
   "cell_type": "code",
   "execution_count": 22,
   "metadata": {},
   "outputs": [],
   "source": [
    "def update_table(sim_table, tem_index, x, y):\n",
    "    tem_index.remove(x)\n",
    "    tem_index.remove(y)\n",
    "    sim_table[x][y] = 0\n",
    "    \n",
    "    for i in tem_index:\n",
    "        if i < x:\n",
    "            sim_table[i][x] = min(sim_table[i][x], sim_table[i][y])\n",
    "            sim_table[i][y] = 0\n",
    "        elif x < i < y:\n",
    "            sim_table[x][i] = min(sim_table[x][i], sim_table[i][y])\n",
    "            sim_table[i][y] = 0 \n",
    "        elif i > y:\n",
    "            sim_table[x][i] = min(sim_table[x][i], sim_table[y][i])\n",
    "            sim_table[y][i] = 0\n",
    "    \n",
    "    tem_index.append(x)\n",
    "    return sim_table, tem_index\n",
    "\n",
    "def hc(data, k):# do not change the heading of the function\n",
    "#     pass # Replace this line with your implementation...\n",
    "\n",
    "    dim = len(data)\n",
    "    result = []\n",
    "    if k == 1:\n",
    "        result = [ 0 for i in range(dim)]\n",
    "        return result    \n",
    "    \n",
    "    elif k > 1 and k <= dim:\n",
    "        sim_table = []\n",
    "        index_list = [ i for i in range(dim)]\n",
    "        tem_index = list(np.arange(dim))\n",
    "        \n",
    "        for i in range(dim):\n",
    "            sub_table = []\n",
    "            for j in range(dim):\n",
    "                sub_table.append(dot_product(data[i], data[j]))\n",
    "            sim_table.append(sub_table)\n",
    "        sim_table = np.array(sim_table)   \n",
    "        sim_table = np.triu(sim_table, k = 1)\n",
    "        \n",
    "        for i in range(dim - k):\n",
    "            position = np.argmax(sim_table)\n",
    "            x = position // dim\n",
    "            y = position % dim\n",
    "#             print(x, y)\n",
    "            x, y = int(x), int(y)\n",
    "            if x in index_list:\n",
    "                index_list.remove(x)\n",
    "            if y in index_list:\n",
    "                index_list.remove(y)\n",
    "            index_list.append([x, y])          \n",
    "            sim_table, tem_index = update_table(sim_table, tem_index, x, y)\n",
    "        \n",
    "        new_index = []        \n",
    "        for i in range(len(index_list)):\n",
    "            if isinstance(index_list[i], int):\n",
    "                index_list[i] = [index_list[i]]\n",
    "        while len(index_list) != 1:\n",
    "            judge = index_list.pop()\n",
    "            for i in index_list:\n",
    "                if len(set(i + judge)) < len(i) + len(judge):\n",
    "                    judge = list(set(i + judge))\n",
    "                    index_list.remove(i)\n",
    "            new_index.append(judge)\n",
    "        new_index.append(index_list[0])       \n",
    "        \n",
    "        count = 0\n",
    "        result = [ 0 for i in range(dim)]\n",
    "        for i in new_index:\n",
    "            for num in i:\n",
    "                result[num] = count\n",
    "            count += 1\n",
    "\n",
    "    return result\n",
    "            \n"
   ]
  },
  {
   "cell_type": "markdown",
   "metadata": {},
   "source": [
    "You need to implement the hierarchical clustering algorithm with **complete link**.\n",
    "\n",
    "The two arguments of ```hc()``` are ```data``` and ```k```, where ```k``` is the number of clusters.\n",
    "\n",
    "The expected output is a list of ```n``` integers, which correspond to the labels of these vectors. The integer (i.e., label) should in $[0,k)$."
   ]
  },
  {
   "cell_type": "code",
   "execution_count": 24,
   "metadata": {},
   "outputs": [
    {
     "name": "stdout",
     "output_type": "stream",
     "text": [
      "[1, 2, 3, 4, 1, 6, 5, 0, 2, 0, 4, 2, 3, 4, 1, 6, 5, 0]\n"
     ]
    }
   ],
   "source": [
    "import submission as submission\n",
    "\n",
    "# for k in range(1, 6):\n",
    "#     print(hc(data, k))\n",
    "k = 2\n",
    "print(hc(data, k))"
   ]
  },
  {
   "cell_type": "markdown",
   "metadata": {},
   "source": [
    "We only interesting in the clustering results rather than the labels (for example, ```[1, 0, 2, 1, 0]``` and ```[2, 0, 1, 2, 0]``` are considered to be the same). Thus we will use the average similarity between each vector and its cluster center to evaluate your implementation.\n",
    "\n",
    "Note: you do not need to implement ```compute_error()``` or include it in your submission."
   ]
  },
  {
   "cell_type": "code",
   "execution_count": null,
   "metadata": {},
   "outputs": [],
   "source": [
    "def compute_error(data, labels, k):\n",
    "    n, d = data.shape\n",
    "    centers = []\n",
    "    for i in range(k):\n",
    "        centers.append([0 for j in range(d)])\n",
    "    \n",
    "    for i in range(n):\n",
    "        centers[labels[i]] = [x + y for x, y in zip(centers[labels[i]], data[i])]\n",
    "\n",
    "    error = 0\n",
    "    for i in range(n):\n",
    "        error += dot_product(centers[labels[i]], data[i])\n",
    "    return error \n",
    "    \n",
    "print(compute_error(data, submission.hc(data, k), k))\n",
    "print(compute_error(data, hc(data, k), k))"
   ]
  },
  {
   "cell_type": "code",
   "execution_count": null,
   "metadata": {},
   "outputs": [],
   "source": []
  }
 ],
 "metadata": {
  "kernelspec": {
   "display_name": "Python 3",
   "language": "python",
   "name": "python3"
  },
  "language_info": {
   "codemirror_mode": {
    "name": "ipython",
    "version": 3
   },
   "file_extension": ".py",
   "mimetype": "text/x-python",
   "name": "python",
   "nbconvert_exporter": "python",
   "pygments_lexer": "ipython3",
   "version": "3.7.2"
  }
 },
 "nbformat": 4,
 "nbformat_minor": 2
}
