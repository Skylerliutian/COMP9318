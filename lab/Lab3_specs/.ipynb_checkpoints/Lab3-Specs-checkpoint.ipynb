{
 "cells": [
  {
   "cell_type": "markdown",
   "metadata": {},
   "source": [
    "# COMP9318-Lab3"
   ]
  },
  {
   "cell_type": "markdown",
   "metadata": {},
   "source": [
    "## Instructions\n",
    "1. This note book contains instructions for **COMP9318-Lab3**.\n",
    "\n",
    "* You are required to complete your implementation in a file `submission.py` provided along with this notebook.\n",
    "\n",
    "* You are not allowed to print out unnecessary stuff. We will not consider any output printed out on the screen. All results should be returned in appropriate data structures via corresponding functions.\n",
    "\n",
    "* You can submit your implementation for **Lab3** via following link: https://unswkg.net/submit/ .\n",
    "\n",
    "* For each question, we have provided you with detailed instructions along with question headings. In case of any problem, you can post your query @ Piazza.\n",
    "\n",
    "* You are allowed to add other functions and/or import modules (you may have to in this lab), but you are not allowed to define global variables. **Only functions are allowed** in `submission.py`. \n",
    "\n",
    "* You should not import unnecessary modules/libraries, failing to import such modules at test time will lead to errors.\n",
    "\n",
    "* We will provide immediate feedback on your submission. You can access your scores using the online submission portal on the same day. \n",
    "\n",
    "* For **Final Evaluation** we will be using a different dataset, so your final scores may vary.  \n",
    "\n",
    "* You are allowed to submit as many times as you want before the deadline, but **ONLY the latest version will be kept and marked**.\n",
    "\n",
    "* Submission deadline for this assignment is **20:59:59 on 6th April, 2020 (Sydney Time)**. We will **not** accept any late submissions."
   ]
  },
  {
   "cell_type": "markdown",
   "metadata": {},
   "source": [
    "# Quesion 1: Hierarchical Clustering\n",
    "\n",
    "You are required to implement a hierarchical clustering algorithm.\n",
    "\n",
    "The input data is a set of unit vectors (i.e., their norm is 1)."
   ]
  },
  {
   "cell_type": "code",
   "execution_count": 3,
   "metadata": {},
   "outputs": [
    {
     "name": "stdout",
     "output_type": "stream",
     "text": [
      "[[0.4472136  0.89442719]\n",
      " [0.9486833  0.31622777]\n",
      " [0.70710678 0.70710678]\n",
      " [0.24253563 0.9701425 ]\n",
      " [0.99388373 0.11043153]]\n"
     ]
    }
   ],
   "source": [
    "import numpy as np\n",
    "data = np.loadtxt('asset/data.txt', dtype = float)\n",
    "print(data)"
   ]
  },
  {
   "cell_type": "markdown",
   "metadata": {},
   "source": [
    "We use inner product to evaluate the similarity between two vectors."
   ]
  },
  {
   "cell_type": "code",
   "execution_count": 4,
   "metadata": {},
   "outputs": [
    {
     "name": "stdout",
     "output_type": "stream",
     "text": [
      "0.7071067811865475\n"
     ]
    }
   ],
   "source": [
    "def dot_product(a, b):\n",
    "    res = 0\n",
    "    for i in range(len(a)):\n",
    "        res += a[i] * b[i]\n",
    "    return res\n",
    "\n",
    "print(dot_product(data[0], data[1]))\n"
   ]
  },
  {
   "cell_type": "code",
   "execution_count": 34,
   "metadata": {},
   "outputs": [
    {
     "ename": "NameError",
     "evalue": "name 'sim_martix' is not defined",
     "output_type": "error",
     "traceback": [
      "\u001b[0;31m---------------------------------------------------------------------------\u001b[0m",
      "\u001b[0;31mNameError\u001b[0m                                 Traceback (most recent call last)",
      "\u001b[0;32m<ipython-input-34-3cdcb0ad69e8>\u001b[0m in \u001b[0;36m<module>\u001b[0;34m\u001b[0m\n\u001b[1;32m     76\u001b[0m \u001b[0;31m# print(hc(data, 3))\u001b[0m\u001b[0;34m\u001b[0m\u001b[0;34m\u001b[0m\u001b[0;34m\u001b[0m\u001b[0m\n\u001b[1;32m     77\u001b[0m \u001b[0;32mwhile\u001b[0m \u001b[0mk\u001b[0m \u001b[0;34m>\u001b[0m \u001b[0;36m0\u001b[0m\u001b[0;34m:\u001b[0m\u001b[0;34m\u001b[0m\u001b[0;34m\u001b[0m\u001b[0m\n\u001b[0;32m---> 78\u001b[0;31m     \u001b[0mc\u001b[0m\u001b[0;34m,\u001b[0m \u001b[0mindex\u001b[0m\u001b[0;34m=\u001b[0m \u001b[0mcomplete_link\u001b[0m\u001b[0;34m(\u001b[0m\u001b[0msim_martix\u001b[0m\u001b[0;34m,\u001b[0m \u001b[0mindex\u001b[0m\u001b[0;34m)\u001b[0m\u001b[0;34m\u001b[0m\u001b[0;34m\u001b[0m\u001b[0m\n\u001b[0m\u001b[1;32m     79\u001b[0m     \u001b[0msim_martix\u001b[0m \u001b[0;34m=\u001b[0m \u001b[0mupdate_martix\u001b[0m\u001b[0;34m(\u001b[0m\u001b[0msim_martix\u001b[0m\u001b[0;34m,\u001b[0m \u001b[0mc\u001b[0m\u001b[0;34m)\u001b[0m\u001b[0;34m\u001b[0m\u001b[0;34m\u001b[0m\u001b[0m\n\u001b[1;32m     80\u001b[0m     \u001b[0mprint\u001b[0m\u001b[0;34m\u001b[0m\u001b[0;34m\u001b[0m\u001b[0m\n",
      "\u001b[0;31mNameError\u001b[0m: name 'sim_martix' is not defined"
     ]
    }
   ],
   "source": [
    "def complete_link(data, index):\n",
    "    n = data.shape[0]\n",
    "    one_dim = []\n",
    "    for i in range(n):\n",
    "        for j in range(i + 1, n):\n",
    "            one_dim.append(data[i][j])\n",
    "    max_num = max(one_dim)\n",
    "    c = np.where(data == max_num)[0]\n",
    "    clu = [index[c[0]], index[c[1]]]\n",
    "    index.remove(clu[0])\n",
    "    index.remove(clu[1])\n",
    "    index.append(str(clu[0]) + str(clu[1]))\n",
    "    return c, index\n",
    "def update_martix(data, c):\n",
    "    n = data.shape[0]\n",
    "    new_data = []\n",
    "    for i in range(n):\n",
    "        if i not in c:\n",
    "            temp = []\n",
    "            for j in range(n):\n",
    "                if j not in c:\n",
    "                    temp.append(data[i][j])\n",
    "            temp.append(min([data[i][c[0]], data[i][c[1]]]))\n",
    "            new_data.append(temp)\n",
    "    after_c = []\n",
    "    for i in range(len(new_data)):\n",
    "        after_c.append(new_data[i][-1])\n",
    "    after_c.append(float(1))\n",
    "    new_data.append(after_c)\n",
    "    new_data = np.array(new_data)\n",
    "    return new_data\n",
    "            \n",
    "    \n",
    "def hc(data, k):\n",
    "    result_dic = {}\n",
    "    point_num = len(data)\n",
    "    sim_martix = []\n",
    "    result = []\n",
    "    index = [i for i in range(point_num)]\n",
    "    for i in range(point_num):\n",
    "        sim = []\n",
    "        for j in range(point_num):\n",
    "            sim.append(dot_product(data[i], data[j]))\n",
    "        sim_martix.append(sim)\n",
    "    sim_martix = np.array(sim_martix)\n",
    "    count = 0\n",
    "    while k > 0 and len(index) > 2:\n",
    "        c, index= complete_link(sim_martix, index)\n",
    "        \n",
    "        if isinstance(index[-1], str):\n",
    "            for i in index[-1]:\n",
    "                if len(index[-1]) > 2:\n",
    "                    if int(i) not in result_dic:\n",
    "                        result_dic[int(i)] = count - 1\n",
    "                    else:\n",
    "                        result_dic[int(i)] = count\n",
    "                else:\n",
    "                    if int(i) not in result_dic:\n",
    "                        result_dic[int(i)] = count \n",
    "        sim_martix = update_martix(sim_martix, c)\n",
    "        \n",
    "        k -= 1\n",
    "        count += 1\n",
    "    for i in sorted(result_dic):\n",
    "        result.append(result_dic[i])\n",
    "    return result\n",
    "\n",
    "        \n",
    "\n",
    "data = np.array([[1.00, 0.90, 0.10, 0.65, 0.20],\n",
    "                 [0.90, 1.00, 0.70, 0.60, 0.50],\n",
    "                 [0.10, 0.70, 1.00, 0.40, 0.30],\n",
    "                 [0.65, 0.60, 0.40, 1.00, 0.80],\n",
    "                 [0.20, 0.50, 0.30, 0.80, 1.00]])\n",
    "\n",
    "# print(hc(data, 3))\n",
    "while k > 0:\n",
    "    c, index= complete_link(sim_martix, index)\n",
    "    sim_martix = update_martix(sim_martix, c)\n",
    "    print\n",
    "    \n",
    "complete_link(data, [0, 1, 2, 3, 4])\n"
   ]
  },
  {
   "cell_type": "markdown",
   "metadata": {},
   "source": [
    "You need to implement the hierarchical clustering algorithm with **complete link**.\n",
    "\n",
    "The two arguments of ```hc()``` are ```data``` and ```k```, where ```k``` is the number of clusters.\n",
    "\n",
    "The expected output is a list of ```n``` integers, which correspond to the labels of these vectors. The integer (i.e., label) should in $[0,k)$."
   ]
  },
  {
   "cell_type": "code",
   "execution_count": 32,
   "metadata": {},
   "outputs": [
    {
     "name": "stdout",
     "output_type": "stream",
     "text": [
      "[2, 0, 1, 2, 0]\n"
     ]
    }
   ],
   "source": [
    "import submission as submission\n",
    "\n",
    "k = 3\n",
    "# print(submission.hc(data, k))\n",
    "print(hc(data, k))"
   ]
  },
  {
   "cell_type": "markdown",
   "metadata": {},
   "source": [
    "We only interesting in the clustering results rather than the labels (for example, ```[1, 0, 2, 1, 0]``` and ```[2, 0, 1, 2, 0]``` are considered to be the same). Thus we will use the average similarity between each vector and its cluster center to evaluate your implementation.\n",
    "\n",
    "Note: you do not need to implement ```compute_error()``` or include it in your submission."
   ]
  },
  {
   "cell_type": "code",
   "execution_count": 30,
   "metadata": {},
   "outputs": [
    {
     "name": "stdout",
     "output_type": "stream",
     "text": [
      "8.907978948522723\n",
      "[0, 2, 3, '14']\n",
      "{1: 0, 4: 0}\n",
      "[2, '14', '03']\n",
      "{1: 0, 4: 0, 0: 1, 3: 1}\n",
      "['14', '203']\n",
      "{1: 0, 4: 0, 0: 2, 3: 2, 2: 1}\n",
      "{1: 0, 4: 0, 0: 2, 3: 2, 2: 1}\n",
      "8.907978948522723\n"
     ]
    }
   ],
   "source": [
    "def compute_error(data, labels, k):\n",
    "    n, d = data.shape\n",
    "    centers = []\n",
    "    for i in range(k):\n",
    "        centers.append([0 for j in range(d)])\n",
    "    \n",
    "    for i in range(n):\n",
    "        centers[labels[i]] = [x + y for x, y in zip(centers[labels[i]], data[i])]\n",
    "\n",
    "    error = 0\n",
    "    for i in range(n):\n",
    "        error += dot_product(centers[labels[i]], data[i])\n",
    "    return error \n",
    "    \n",
    "print(compute_error(data, submission.hc(data, k), k))\n",
    "print(compute_error(data, hc(data, k), k))"
   ]
  },
  {
   "cell_type": "code",
   "execution_count": null,
   "metadata": {},
   "outputs": [],
   "source": []
  }
 ],
 "metadata": {
  "kernelspec": {
   "display_name": "Python 3",
   "language": "python",
   "name": "python3"
  },
  "language_info": {
   "codemirror_mode": {
    "name": "ipython",
    "version": 3
   },
   "file_extension": ".py",
   "mimetype": "text/x-python",
   "name": "python",
   "nbconvert_exporter": "python",
   "pygments_lexer": "ipython3",
   "version": "3.7.2"
  }
 },
 "nbformat": 4,
 "nbformat_minor": 2
}
